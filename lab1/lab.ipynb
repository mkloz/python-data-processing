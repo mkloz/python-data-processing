{
 "cells": [
  {
   "cell_type": "markdown",
   "metadata": {},
   "source": [
    "# Лабораторна робота №1\n",
    "Тема: Дослідження та візуалізація даних за допомогою Python\n",
    "\n",
    "Мета: отримати базові навики використання Python для дослідження та\n",
    "візуалізації даних."
   ]
  },
  {
   "cell_type": "markdown",
   "metadata": {},
   "source": [
    "### Визначення варіанту"
   ]
  },
  {
   "cell_type": "code",
   "execution_count": 9,
   "metadata": {},
   "outputs": [
    {
     "name": "stdout",
     "output_type": "stream",
     "text": [
      "Mій варіант: 3\n"
     ]
    }
   ],
   "source": [
    "FIRST_LETTER_OF_MY_NAME = \"M\"\n",
    "\n",
    "print(\"Mій варіант:\", ord(FIRST_LETTER_OF_MY_NAME) % 3 + 1)"
   ]
  },
  {
   "cell_type": "markdown",
   "metadata": {},
   "source": [
    "### Варіант 3. Дослідження втрат бронетранспортерів (БТР).\n",
    "1. Створіть функцію, яка приймає назву файлу та назву стовпця як\n",
    "параметр та повертає масив numpy зі значеннями стовпця."
   ]
  },
  {
   "cell_type": "code",
   "execution_count": 10,
   "metadata": {},
   "outputs": [
    {
     "name": "stdout",
     "output_type": "stream",
     "text": [
      "Warning: Looks like you're using an outdated `kagglehub` version, please consider updating (latest version: 0.3.4)\n"
     ]
    }
   ],
   "source": [
    "import kagglehub\n",
    "import csv\n",
    "import os\n",
    "import numpy as np\n",
    "import datetime\n",
    "import matplotlib.pyplot as plt\n",
    "\n",
    "# Download latest version\n",
    "path = kagglehub.dataset_download(\n",
    "    \"piterfm/2022-ukraine-russian-war\", \"russia_losses_equipment.csv\"\n",
    ")\n",
    "\n",
    "\n",
    "class LossesTable:\n",
    "    def __init__(self, path: str):\n",
    "        self.data_table = self.read_data(path)\n",
    "\n",
    "    def read_data(self, file_path: str) -> np.ndarray:\n",
    "        if not os.path.exists(file_path):\n",
    "            raise FileNotFoundError()\n",
    "\n",
    "        with open(file_path, \"r\", encoding=\"utf-8\") as file:\n",
    "            reader = csv.reader(file)\n",
    "\n",
    "            return np.array(list(reader))\n",
    "\n",
    "    def get_column_of_data(\n",
    "        self,\n",
    "        column_name: str,\n",
    "        from_date: datetime = None,\n",
    "        till_date: datetime = None,\n",
    "    ) -> np.ndarray:\n",
    "        headers = self.data_table[0]\n",
    "\n",
    "        if column_name not in headers:\n",
    "            raise ValueError(f\"Column '{column_name}' not found in headers.\")\n",
    "        index = headers.tolist().index(column_name)\n",
    "        data = []\n",
    "\n",
    "        for row in self.data_table[1:]:\n",
    "            if from_date is not None:\n",
    "                date = datetime.datetime.strptime(row[0], \"%Y-%m-%d\")\n",
    "                if date < from_date:\n",
    "                    continue\n",
    "            if till_date is not None:\n",
    "                date = datetime.datetime.strptime(row[0], \"%Y-%m-%d\")\n",
    "                if date > till_date:\n",
    "                    continue\n",
    "\n",
    "            data.append(row[index] or None)\n",
    "        return np.array(data)\n",
    "\n",
    "    def get_APC(self, from_date: datetime = None, till_date: datetime = None):\n",
    "        return np.array(\n",
    "            list(map(int, self.get_column_of_data(\"APC\", from_date, till_date)))\n",
    "        )\n",
    "\n",
    "    def get_dates(self, from_date: datetime = None, till_date: datetime = None):\n",
    "        return np.array(\n",
    "            list(\n",
    "                map(\n",
    "                    lambda data: datetime.datetime.strptime(data, \"%Y-%m-%d\"),\n",
    "                    self.get_column_of_data(\"date\", from_date, till_date),\n",
    "                )\n",
    "            )\n",
    "        )\n",
    "\n",
    "\n",
    "losses = LossesTable(path)"
   ]
  },
  {
   "cell_type": "markdown",
   "metadata": {},
   "source": [
    "2. Використовуючи функцію з попереднього завдання, створіть масив\n",
    "numpy зі значень стовпця «APC» (Armored personnel carrier)."
   ]
  },
  {
   "cell_type": "code",
   "execution_count": 11,
   "metadata": {},
   "outputs": [
    {
     "name": "stdout",
     "output_type": "stream",
     "text": [
      "APC: [18726 18697 18661 18612 18592 18581 18538 18523 18487 18470 18450 18433\n",
      " 18404 18395 18355 18332 18287 18254 18229 18199 18175 18111 18072 18053\n",
      " 18002 17969 17939 17895 17876 17827 17800 17765 17751 17740 17710 17679\n",
      " 17658 17627 17596 17579 17547 17503 17476 17438 17396 17344 17304 17292\n",
      " 17252 17222 17170 17132 17093 17080 17077 17071 17063 17043 17003 16955\n",
      " 16938 16925 16906 16897 16878 16878 16869 16848 16821 16786 16760 16736\n",
      " 16722 16699 16681 16667 16648 16631 16620 16599 16567 16542 16521 16495\n",
      " 16480 16473 16461 16426 16402 16385 16368 16363 16350 16341 16332 16323\n",
      " 16294 16286 16255 16238 16211 16203 16161 16141 16103 16095 16074 16050\n",
      " 16039 16013 16000 15980 15963 15917 15902 15883 15871 15862 15826 15811\n",
      " 15779 15755 15732 15715 15704 15685 15645 15629 15611 15600 15583 15566\n",
      " 15550 15524 15505 15480 15459 15450 15431 15413 15398 15383 15372 15337\n",
      " 15319 15307 15287 15269 15263 15234 15208 15187 15176 15144 15131 15105\n",
      " 15096 15076 15036 15020 15002 14980 14947 14935 14913 14891 14858 14818\n",
      " 14803 14786 14775 14748 14721 14699 14665 14630 14595 14552 14538 14508\n",
      " 14460 14417 14375 14353 14313 14281 14246 14227 14213 14179 14156 14129\n",
      " 14096 14067 14046 14007 13991 13971 13957 13942 13928 13916 13904 13896\n",
      " 13873 13852 13835 13827 13809 13796 13765 13745 13698 13679 13667 13620\n",
      " 13575 13551 13497 13459 13386 13368 13350 13321 13304 13284 13264 13237\n",
      " 13216 13207 13183 13158 13130 13111 13074 13058 13049 13014 12997 12973\n",
      " 12949 12938 12921 12901 12874 12850 12823 12798 12779 12728 12688 12660\n",
      " 12639 12611 12582 12552 12508 12494 12478 12441 12425 12410 12373 12338\n",
      " 12268 12232 12198 12145 12129 12090 12043 12004 11977 11956 11942 11921\n",
      " 11899 11879 11857 11822 11818 11805 11792 11773 11757 11725 11696 11671\n",
      " 11652 11637 11621 11579 11548 11489 11466 11455 11445 11410 11372 11358\n",
      " 11322 11302 11269 11254 11238 11216 11203 11194 11180 11158 11142 11128\n",
      " 11107 11100 11087 11070 11053 11033 11015 10973 10956 10919 10888 10871\n",
      " 10843 10825 10794 10771 10752 10692 10667 10654 10616 10594 10579 10560\n",
      " 10529 10519 10508 10482 10456 10416 10401 10396 10385 10372 10340 10312\n",
      " 10285 10282 10279 10263 10256 10224 10188 10174 10168 10166 10141 10132\n",
      " 10121 10104 10086 10079 10073 10041 10017 10014  9996  9974  9958  9953\n",
      "  9939  9901  9877  9834  9804  9775  9758  9749  9726  9715  9697  9669\n",
      "  9653  9631  9612  9557  9437  9420  9405  9385  9362  9337  9313  9264\n",
      "  9220  9129  9126  9123  9102  9082  9052  9026  9008  9000  8991  8984\n",
      "  8972  8962  8950  8946  8927  8914  8912  8891  8883  8868  8851  8834\n",
      "  8828  8824  8814  8810  8792  8778  8767  8755  8739  8726  8703  8682\n",
      "  8670  8663  8649  8637  8613  8604  8596  8579  8562  8554  8539  8521\n",
      "  8511  8488  8476  8449  8435  8424  8410  8398  8380  8370  8354  8335\n",
      "  8324  8318  8303  8290  8278  8270  8262  8251  8249  8234  8213  8205\n",
      "  8188  8178  8167  8161  8147  8136  8131  8118  8105  8096  8080  8065\n",
      "  8059  8051  8034  8026  8019  8008  7999  7990  7983  7966  7964  7953\n",
      "  7944  7932  7917  7908  7899  7888  7868  7863  7857  7847  7834  7820\n",
      "  7806  7804  7798  7783  7771  7750  7735  7729  7706  7683  7667  7653\n",
      "  7642  7636  7631  7607  7600  7576  7560  7543  7523  7512  7502  7490\n",
      "  7478  7472  7469  7467  7456  7442  7435  7432  7424  7419  7407  7398\n",
      "  7382  7377  7373  7365  7348  7336  7325  7307  7295  7287  7275  7257\n",
      "  7253  7248  7238  7224  7216  7199  7193  7192  7189  7184  7181  7178\n",
      "  7162  7151  7139  7131  7130  7126  7120  7110  7098  7087  7083  7073\n",
      "  7069  7053  7043  7038  7028  7024  7020  7016  7013  7005  6999  6993\n",
      "  6986  6981  6977  6974  6966  6966  6953  6947  6932  6921  6898  6887\n",
      "  6879  6869  6853  6830  6823  6810  6799  6789  6774  6769  6762  6742\n",
      "  6736  6723  6714  6703  6692  6683  6673  6658  6638  6630  6621  6615\n",
      "  6609  6600  6593  6569  6562  6553  6545  6533  6520  6517  6507  6500\n",
      "  6492  6488  6474  6471  6468  6458  6443  6415  6405  6394  6388  6382\n",
      "  6382  6378  6369  6366  6344  6340  6334  6307  6284  6276  6268  6256\n",
      "  6241  6235  6215  6215  6204  6183  6173  6167  6159  6159  6154  6147\n",
      "  6130  6125  6124  6108  6106  6100  6093  6084  6075  6059  6047  6037\n",
      "  6024  6017  6010  5994  5986  5981  5979  5974  5969  5963  5958  5952\n",
      "  5946  5937  5930  5928  5920  5917  5912  5911  5909  5905  5900  5892\n",
      "  5886  5883  5877  5872  5866  5861  5856  5848  5844  5837  5832  5827\n",
      "  5822  5817  5815  5808  5804  5797  5773  5748  5742  5730  5696  5682\n",
      "  5666  5654  5630  5611  5601  5580  5552  5525  5501  5485  5453  5401\n",
      "  5378  5364  5351  5321  5295  5284  5266  5258  5255  5235  5219  5205\n",
      "  5193  5179  5172  5167  5181  5162  5149  5133  5111  5093  5064  5038\n",
      "  5018  4991  4975  4949  4932  4909  4889  4881  4857  4832  4807  4796\n",
      "  4776  4748  4724  4720  4718  4701  4690  4682  4665  4662  4640  4617\n",
      "  4584  4575  4557  4520  4484  4459  4430  4403  4366  4345  4312  4294\n",
      "  4269  4257  4254  4251  4245  4243  4238  4230  4224  4212  4195  4179\n",
      "  4162  4152  4141  4126  4115  4108  4100  4086  4076  4070  4055  4051\n",
      "  4032  4026  4022  4014  4011  4004  3995  3987  3979  3971  3959  3950\n",
      "  3942  3929  3920  3912  3905  3892  3886  3879  3874  3866  3832  3832\n",
      "  3829  3828  3823  3815  3811  3797  3789  3772  3744  3744  3737  3736\n",
      "  3726  3720  3704  3687  3659  3645  3637  3632  3614  3606  3588  3577\n",
      "  3573  3563  3545  3528  3503  3492  3484  3466  3450  3438  3429  3416\n",
      "  3400  3392  3379  3366  3354  3343  3302  3282  3270  3258  3246  3235\n",
      "  3213  3194  3166  3141  3116  3090  3063  3043  3009  2974  2958  2934\n",
      "  2900  2873  2856  2808  2764  2741  2713  2686  2651  2610  2567  2519\n",
      "  2471  2445  2418  2389  2342  2308  2258  2238  2205  2162  2118  2087\n",
      "  2063  2041  2002  1982  1976  1968  1964  1946  1923  1911  1895  1891\n",
      "  1891  1861  1858  1844  1830  1776  1751  1735  1723  1710  1694  1664\n",
      "  1640  1625  1597  1578  1556  1535  1487  1470  1448  1435  1375  1279\n",
      "  1249  1226  1205  1165  1105  1070  1036   999   985   945   939   900\n",
      "   862   846   816   706   706   516]\n"
     ]
    }
   ],
   "source": [
    "APC = losses.get_APC()\n",
    "\n",
    "\n",
    "print(\"APC:\", APC)"
   ]
  },
  {
   "cell_type": "markdown",
   "metadata": {},
   "source": [
    "3. Знайдіть добові втрати БТР."
   ]
  },
  {
   "cell_type": "code",
   "execution_count": 12,
   "metadata": {},
   "outputs": [
    {
     "name": "stdout",
     "output_type": "stream",
     "text": [
      "Daily APC losses:  [ 29  36  49  20  11  43  15  36  17  20  17  29   9  40  23  45  33  25\n",
      "  30  24  64  39  19  51  33  30  44  19  49  27  35  14  11  30  31  21\n",
      "  31  31  17  32  44  27  38  42  52  40  12  40  30  52  38  39  13   3\n",
      "   6   8  20  40  48  17  13  19   9  19   0   9  21  27  35  26  24  14\n",
      "  23  18  14  19  17  11  21  32  25  21  26  15   7  12  35  24  17  17\n",
      "   5  13   9   9   9  29   8  31  17  27   8  42  20  38   8  21  24  11\n",
      "  26  13  20  17  46  15  19  12   9  36  15  32  24  23  17  11  19  40\n",
      "  16  18  11  17  17  16  26  19  25  21   9  19  18  15  15  11  35  18\n",
      "  12  20  18   6  29  26  21  11  32  13  26   9  20  40  16  18  22  33\n",
      "  12  22  22  33  40  15  17  11  27  27  22  34  35  35  43  14  30  48\n",
      "  43  42  22  40  32  35  19  14  34  23  27  33  29  21  39  16  20  14\n",
      "  15  14  12  12   8  23  21  17   8  18  13  31  20  47  19  12  47  45\n",
      "  24  54  38  73  18  18  29  17  20  20  27  21   9  24  25  28  19  37\n",
      "  16   9  35  17  24  24  11  17  20  27  24  27  25  19  51  40  28  21\n",
      "  28  29  30  44  14  16  37  16  15  37  35  70  36  34  53  16  39  47\n",
      "  39  27  21  14  21  22  20  22  35   4  13  13  19  16  32  29  25  19\n",
      "  15  16  42  31  59  23  11  10  35  38  14  36  20  33  15  16  22  13\n",
      "   9  14  22  16  14  21   7  13  17  17  20  18  42  17  37  31  17  28\n",
      "  18  31  23  19  60  25  13  38  22  15  19  31  10  11  26  26  40  15\n",
      "   5  11  13  32  28  27   3   3  16   7  32  36  14   6   2  25   9  11\n",
      "  17  18   7   6  32  24   3  18  22  16   5  14  38  24  43  30  29  17\n",
      "   9  23  11  18  28  16  22  19  55 120  17  15  20  23  25  24  49  44\n",
      "  91   3   3  21  20  30  26  18   8   9   7  12  10  12   4  19  13   2\n",
      "  21   8  15  17  17   6   4  10   4  18  14  11  12  16  13  23  21  12\n",
      "   7  14  12  24   9   8  17  17   8  15  18  10  23  12  27  14  11  14\n",
      "  12  18  10  16  19  11   6  15  13  12   8   8  11   2  15  21   8  17\n",
      "  10  11   6  14  11   5  13  13   9  16  15   6   8  17   8   7  11   9\n",
      "   9   7  17   2  11   9  12  15   9   9  11  20   5   6  10  13  14  14\n",
      "   2   6  15  12  21  15   6  23  23  16  14  11   6   5  24   7  24  16\n",
      "  17  20  11  10  12  12   6   3   2  11  14   7   3   8   5  12   9  16\n",
      "   5   4   8  17  12  11  18  12   8  12  18   4   5  10  14   8  17   6\n",
      "   1   3   5   3   3  16  11  12   8   1   4   6  10  12  11   4  10   4\n",
      "  16  10   5  10   4   4   4   3   8   6   6   7   5   4   3   8   0  13\n",
      "   6  15  11  23  11   8  10  16  23   7  13  11  10  15   5   7  20   6\n",
      "  13   9  11  11   9  10  15  20   8   9   6   6   9   7  24   7   9   8\n",
      "  12  13   3  10   7   8   4  14   3   3  10  15  28  10  11   6   6   0\n",
      "   4   9   3  22   4   6  27  23   8   8  12  15   6  20   0  11  21  10\n",
      "   6   8   0   5   7  17   5   1  16   2   6   7   9   9  16  12  10  13\n",
      "   7   7  16   8   5   2   5   5   6   5   6   6   9   7   2   8   3   5\n",
      "   1   2   4   5   8   6   3   6   5   6   5   5   8   4   7   5   5   5\n",
      "   5   2   7   4   7  24  25   6  12  34  14  16  12  24  19  10  21  28\n",
      "  27  24  16  32  52  23  14  13  30  26  11  18   8   3  20  16  14  12\n",
      "  14   7   5 -14  19  13  16  22  18  29  26  20  27  16  26  17  23  20\n",
      "   8  24  25  25  11  20  28  24   4   2  17  11   8  17   3  22  23  33\n",
      "   9  18  37  36  25  29  27  37  21  33  18  25  12   3   3   6   2   5\n",
      "   8   6  12  17  16  17  10  11  15  11   7   8  14  10   6  15   4  19\n",
      "   6   4   8   3   7   9   8   8   8  12   9   8  13   9   8   7  13   6\n",
      "   7   5   8  34   0   3   1   5   8   4  14   8  17  28   0   7   1  10\n",
      "   6  16  17  28  14   8   5  18   8  18  11   4  10  18  17  25  11   8\n",
      "  18  16  12   9  13  16   8  13  13  12  11  41  20  12  12  12  11  22\n",
      "  19  28  25  25  26  27  20  34  35  16  24  34  27  17  48  44  23  28\n",
      "  27  35  41  43  48  48  26  27  29  47  34  50  20  33  43  44  31  24\n",
      "  22  39  20   6   8   4  18  23  12  16   4   0  30   3  14  14  54  25\n",
      "  16  12  13  16  30  24  15  28  19  22  21  48  17  22  13  60  96  30\n",
      "  23  21  40  60  35  34  37  14  40   6  39  38  16  30 110   0 190]\n"
     ]
    }
   ],
   "source": [
    "def get_daily_losses(APC: np.ndarray) -> np.ndarray:\n",
    "    return -np.diff(APC)\n",
    "\n",
    "daily_apc_losses = get_daily_losses(APC)\n",
    "\n",
    "print(\"Daily APC losses: \", daily_apc_losses)"
   ]
  },
  {
   "cell_type": "markdown",
   "metadata": {},
   "source": [
    "4. Знайдіть 5 найбільших добових втрат БТР."
   ]
  },
  {
   "cell_type": "code",
   "execution_count": 13,
   "metadata": {},
   "outputs": [
    {
     "name": "stdout",
     "output_type": "stream",
     "text": [
      "Top 5 daily losses:  [ 91  96 110 120 190]\n"
     ]
    }
   ],
   "source": [
    "def get_top_5_daily_losses(daily_apc_losses: np.ndarray) -> np.ndarray:\n",
    "    return np.sort(daily_apc_losses)[-5:]\n",
    "  \n",
    "print(\"Top 5 daily losses: \", get_top_5_daily_losses(daily_apc_losses))"
   ]
  },
  {
   "cell_type": "markdown",
   "metadata": {},
   "source": [
    "5. Визначте, скільки БТР було знищено влітку 2023 року."
   ]
  },
  {
   "cell_type": "code",
   "execution_count": 14,
   "metadata": {},
   "outputs": [
    {
     "name": "stdout",
     "output_type": "stream",
     "text": [
      "Total summer 2023 APC losses:  1126\n"
     ]
    }
   ],
   "source": [
    "def get_total_apc_losses(APC: np.ndarray) -> np.ndarray:\n",
    "    return np.sum(get_daily_losses(APC))\n",
    "\n",
    "\n",
    "print(\"Total summer 2023 APC losses: \", get_total_apc_losses(losses.get_APC(datetime.datetime(2023, 6, 1), datetime.datetime(2023, 8, 31))))"
   ]
  },
  {
   "cell_type": "markdown",
   "metadata": {},
   "source": [
    "6. Знайдіть середнє значення знищених БТР за 100-500 днів війни.\n"
   ]
  },
  {
   "cell_type": "code",
   "execution_count": 15,
   "metadata": {},
   "outputs": [
    {
     "name": "stdout",
     "output_type": "stream",
     "text": [
      "Average APC losses from days 100 to 500:  11.4625\n"
     ]
    }
   ],
   "source": [
    "def get_average_apc_losses(APC: np.ndarray) -> np.ndarray:\n",
    "    return np.mean(get_daily_losses(APC))\n",
    "\n",
    "\n",
    "print(\n",
    "    \"Average APC losses from days 100 to 500: \",\n",
    "    get_average_apc_losses(\n",
    "        losses.get_APC(datetime.datetime(2022, 6, 4), datetime.datetime(2023, 7, 9))\n",
    "    ),\n",
    ")"
   ]
  },
  {
   "cell_type": "markdown",
   "metadata": {},
   "source": [
    "7. Створіть графік втрат БТР за останні 200 днів (починаючи з останньої\n",
    "дати в наборі даних)"
   ]
  },
  {
   "cell_type": "code",
   "execution_count": 16,
   "metadata": {},
   "outputs": [
    {
     "data": {
      "image/png": "[encoded data removed]",
      "text/plain": [
       "<Figure size 1000x1000 with 1 Axes>"
      ]
     },
     "metadata": {},
     "output_type": "display_data"
    }
   ],
   "source": [
    "def get_losses_graph(from_date: datetime = None, till_date: datetime = None):\n",
    "    data = losses.get_APC(from_date, till_date)\n",
    "    dates = losses.get_dates(from_date, till_date)\n",
    "    \n",
    "    plt.figure(figsize=(10, 10), dpi=100)\n",
    "    plt.plot(dates, data, linestyle=\"--\", color=\"blue\", label=\"APC Losses\")\n",
    "\n",
    "    plt.title(\"APC Losses Over the Specified Period\")\n",
    "    plt.xlabel(\"Date\")\n",
    "    plt.ylabel(\"Number of APCs Lost\")\n",
    "    plt.legend()\n",
    "    plt.grid(color=\"gray\", linestyle=\"-\", linewidth=0.5)\n",
    "    \n",
    "    return plt\n",
    "\n",
    "\n",
    "losses_for_last_200_days = get_losses_graph(\n",
    "    datetime.datetime.now() - datetime.timedelta(days=200)\n",
    ")\n",
    "\n",
    "losses_for_last_200_days.savefig(\"apc_losses_last_200_days.png\", format=\"png\")\n",
    "losses_for_last_200_days.show()"
   ]
  },
  {
   "cell_type": "markdown",
   "metadata": {},
   "source": [
    "### Висновок\n",
    "\n",
    "У ході виконання лабораторної роботи №1 було досягнуто мету – здобуто базові навички використання Python для дослідження та візуалізації даних. Було опрацьовано основні методи обробки даних за допомогою бібліотек, таких як Pandas, а також інструменти для візуалізації, зокрема Matplotlib та Seaborn.\n",
    "\n",
    "У результаті роботи вдалося:\n",
    "\n",
    "- освоїти основні прийоми роботи з наборами даних, включаючи завантаження, фільтрацію та аналіз;\n",
    "- створити наочні графічні візуалізації для демонстрації закономірностей у даних;\n",
    "- зрозуміти важливість грамотного оформлення візуалізацій для подальшого аналізу та інтерпретації;\n",
    "- закласти фундамент для подальшого вивчення методів аналізу та обробки даних за допомогою Python."
   ]
  }
 ],
 "metadata": {
  "kernelspec": {
   "display_name": ".venv",
   "language": "python",
   "name": "python3"
  },
  "language_info": {
   "codemirror_mode": {
    "name": "ipython",
    "version": 3
   },
   "file_extension": ".py",
   "mimetype": "text/x-python",
   "name": "python",
   "nbconvert_exporter": "python",
   "pygments_lexer": "ipython3",
   "version": "3.12.6"
  }
 },
 "nbformat": 4,
 "nbformat_minor": 2
}
