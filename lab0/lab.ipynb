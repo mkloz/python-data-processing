{
 "cells": [
  {
   "cell_type": "markdown",
   "metadata": {},
   "source": [
    "### Визначення варіанту\n"
   ]
  },
  {
   "cell_type": "code",
   "execution_count": 2,
   "metadata": {},
   "outputs": [
    {
     "name": "stdout",
     "output_type": "stream",
     "text": [
      "Mій варіант: 8\n"
     ]
    }
   ],
   "source": [
    "FIRST_LETTER_OF_MY_NAME = \"M\"\n",
    "\n",
    "print(\"Mій варіант:\", ord(FIRST_LETTER_OF_MY_NAME) % 10 + 1)"
   ]
  },
  {
   "cell_type": "markdown",
   "metadata": {},
   "source": [
    "# Грузія 🇬🇪\n",
    "\n",
    "Грузія - це країна, розташована на стику Європи та Азії, на Кавказі. Це **незалежна держава** з багатою історією, культурною спадщиною та чарівними природними пейзажами.\n",
    "\n",
    "## Основна інформація\n",
    "\n",
    "| Характеристика      | Дані                     |\n",
    "| ------------------- | ------------------------ |\n",
    "| **Площа**           | 69,700 км²               |\n",
    "| **Населення**       | 3.7 мільйона             |\n",
    "| **Столиця**         | Тбілісі                  |\n",
    "| **Форма правління** | Парламентська республіка |\n",
    "| **Офіційна мова**   | Грузинська               |\n",
    "\n",
    "### Державний устрій\n",
    "\n",
    "Грузія є **парламентською республікою**, де президент виконує переважно церемоніальні функції, а влада зосереджена в руках прем'єр-міністра та парламенту.\n",
    "\n",
    "## Видатні персоналії\n",
    "\n",
    "1. **Шота Руставелі** — поет, автор епічної поеми _\"Витязь у тигровій шкурі\"_.\n",
    "2. **Звіад Гамсахурдія** — перший президент незалежної Грузії.\n",
    "3. **Михаїл Саакашвілі** — президент, який проводив реформи та активно інтегрував Грузію до Європи.\n",
    "\n",
    "## Пам'ятки культури та природи\n",
    "\n",
    "- **Монастирі Грузії**:\n",
    "  - **Мцхета** — древня столиця та релігійний центр.\n",
    "  - **Гелатський монастир** — об'єкт всесвітньої спадщини ЮНЕСКО.\n",
    "- **Національні парки**:\n",
    "  - Боржомі — знаменитий своїми мінеральними джерелами.\n",
    "  - Казбегі — гірський парк з чарівними краєвидами.\n",
    "\n",
    "[Мцхета](<https://ru.wikipedia.org/wiki/%D0%9C%D1%86%D1%85%D0%B5%D1%82%D0%B0#/media/%D0%A4%D0%B0%D0%B9%D0%BB:Mtskheta_(2011)..jpg>)\n",
    "\n",
    "### Природні та культурні пам'ятки\n",
    "\n",
    "1. **Кавказькі гори** - чудові для туризму та альпінізму.\n",
    "2. **Чорне море** - відомий курорт на західному узбережжі.\n",
    "3. **Традиційне грузинське вино** - одна з найстаріших виноробних традицій світу.\n",
    "\n",
    "---\n",
    "\n",
    "## Структура Грузії\n",
    "\n",
    "<details>\n",
    "  <summary><strong>Області Грузії</strong></summary>\n",
    "  <ul>\n",
    "    <li>Тбілісі</li>\n",
    "    <li>Аджарія</li>\n",
    "    <li>Імереті</li>\n",
    "    <li>Кахеті</li>\n",
    "    <li>Самегрело</li>\n",
    "    <li>Шида Картлі</li>\n",
    "    <li>Гурія</li>\n",
    "    <li>Рача-Лечхумі та Квемо Сванеті</li>\n",
    "    <li>Мцхета-Мтіанеті</li>\n",
    "    <li>Квемо Картлі</li>\n",
    "    <li>Самцхе-Джавахеті</li>\n",
    "    <li>Тушеті</li>\n",
    "    ```\n",
    "  </ul>\n",
    "</details>\n",
    "\n",
    "---\n",
    "\n",
    "## Флаг Грузії\n",
    "\n",
    "<svg xmlns=\"http://www.w3.org/2000/svg\" xmlns:xlink=\"http://www.w3.org/1999/xlink\" width=\"900\" height=\"600\" viewBox=\"0 0 30 20\" fill=\"#f00\">\n",
    "\t<title>Flag of Georgia</title>\n",
    "\t<path fill=\"#fff\" d=\"m0 0h30v20H0z\"/>\n",
    "\t<path d=\"m13 0h4v20h-4zM0 8h30v4H0z\"/>\n",
    "\t<g id=\"c\">\n",
    "\t\t<g id=\"b\">\n",
    "\t\t\t<path id=\"a\" d=\"m5.7968 1.954a5.4 5.4 0 0 0 1.4064 0 10.4 10.4 0 0 0 0 4.092 5.4 5.4 0 0 0-1.4064 0 10.4 10.4 0 0 0 0-4.092z\"/>\n",
    "\t\t\t<use transform=\"rotate(90,6.5,4)\" xlink:href=\"#a\"/>\n",
    "\t\t</g>\n",
    "\t\t<use x=\"17\" xlink:href=\"#b\"/>\n",
    "\t</g>\n",
    "\t<use y=\"12\" xlink:href=\"#c\"/>\n",
    "</svg>\n",
    "\n",
    "---\n",
    "\n",
    "## Гіперпосилання\n",
    "\n",
    "Для додаткової інформації відвідайте [офіційний туристичний сайт Грузії](https://georgia.travel/).\n"
   ]
  },
  {
   "cell_type": "markdown",
   "metadata": {},
   "source": [
    "## Функція для гном'ячого сортування списку\n"
   ]
  },
  {
   "cell_type": "code",
   "execution_count": 3,
   "metadata": {},
   "outputs": [],
   "source": [
    "def gnome_sort_desc(arr):\n",
    "    index = 0\n",
    "    while index < len(arr):\n",
    "        if index == 0:\n",
    "            index += 1\n",
    "        if arr[index] <= arr[index - 1]:\n",
    "            index += 1\n",
    "        else:\n",
    "            arr[index], arr[index - 1] = arr[index - 1], arr[index]\n",
    "            index -= 1\n",
    "    return arr"
   ]
  },
  {
   "cell_type": "code",
   "execution_count": 4,
   "metadata": {},
   "outputs": [],
   "source": [
    "def task_08():\n",
    "    user_input = input(\"Enter a space-separated list of numbers: \")\n",
    "    print(\"Original input:\", user_input)\n",
    "\n",
    "    try:\n",
    "        arr = list(map(int, user_input.strip().split()))\n",
    "    except ValueError as e:\n",
    "        print(\"Invalid input. Please enter a space-separated list of numbers.\", e)\n",
    "        return\n",
    "    sorted_arr = gnome_sort_desc(arr)\n",
    "    print(\"Sorted array:\", sorted_arr)"
   ]
  },
  {
   "cell_type": "code",
   "execution_count": 5,
   "metadata": {},
   "outputs": [
    {
     "name": "stdout",
     "output_type": "stream",
     "text": [
      "Original input: 12 12 43 63 923 0 23\n",
      "Sorted array: [923, 63, 43, 23, 12, 12, 0]\n"
     ]
    }
   ],
   "source": [
    "task_08()"
   ]
  },
  {
   "cell_type": "code",
   "execution_count": 6,
   "metadata": {},
   "outputs": [
    {
     "name": "stdout",
     "output_type": "stream",
     "text": [
      "Original input: 123 0 12  14035 302 20 21213  032 034 0340323\n",
      "Sorted array: [340323, 21213, 14035, 302, 123, 34, 32, 20, 12, 0]\n"
     ]
    }
   ],
   "source": [
    "task_08()"
   ]
  },
  {
   "cell_type": "code",
   "execution_count": 7,
   "metadata": {},
   "outputs": [
    {
     "name": "stdout",
     "output_type": "stream",
     "text": [
      "Original input: Hello world\n",
      "Invalid input. Please enter a space-separated list of numbers. invalid literal for int() with base 10: 'Hello'\n"
     ]
    }
   ],
   "source": [
    "task_08()"
   ]
  },
  {
   "cell_type": "code",
   "execution_count": 8,
   "metadata": {},
   "outputs": [
    {
     "name": "stdout",
     "output_type": "stream",
     "text": [
      "Original input: 12 3 W1 -12 -23\n",
      "Invalid input. Please enter a space-separated list of numbers. invalid literal for int() with base 10: 'W1'\n"
     ]
    }
   ],
   "source": [
    "task_08()"
   ]
  }
 ],
 "metadata": {
  "kernelspec": {
   "display_name": ".venv",
   "language": "python",
   "name": "python3"
  },
  "language_info": {
   "codemirror_mode": {
    "name": "ipython",
    "version": 3
   },
   "file_extension": ".py",
   "mimetype": "text/x-python",
   "name": "python",
   "nbconvert_exporter": "python",
   "pygments_lexer": "ipython3",
   "version": "3.12.6"
  }
 },
 "nbformat": 4,
 "nbformat_minor": 2
}
