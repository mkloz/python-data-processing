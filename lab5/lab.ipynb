{
 "cells": [
  {
   "cell_type": "markdown",
   "metadata": {},
   "source": [
    "1. Визначити номер варіанта за формулою:"
   ]
  },
  {
   "cell_type": "code",
   "execution_count": 6,
   "metadata": {},
   "outputs": [
    {
     "name": "stdout",
     "output_type": "stream",
     "text": [
      "Mій варіант: 3\n"
     ]
    }
   ],
   "source": [
    "FIRST_LETTER_OF_MY_NAME = \"M\"\n",
    "\n",
    "print(\"Mій варіант:\", ord(FIRST_LETTER_OF_MY_NAME) % 5 + 1)"
   ]
  },
  {
   "cell_type": "code",
   "execution_count": 7,
   "metadata": {},
   "outputs": [
    {
     "data": {
      "text/plain": [
       "'filename: draco.jpg, image size: [700, 700], glasses color: cyan, line width: 4'"
      ]
     },
     "execution_count": 7,
     "metadata": {},
     "output_type": "execute_result"
    }
   ],
   "source": [
    "import pandas as pd\n",
    "\n",
    "df = pd.read_excel(\"lab5.xlsx\")\n",
    "\n",
    "class ImageData:          \n",
    "    def __init__(self, data: pd.Series):\n",
    "        self.filename = data[\"file name\"]\n",
    "        self.image_sizes =[int(data) for data in data[\"image size\"].split(\"x\")]\n",
    "        self.glasses_color = data[\"glasses color\"]\n",
    "        self.line_width = int(data[\"line width\"])\n",
    "        \n",
    "    def __str__(self):\n",
    "        return f\"filename: {self.filename}, image size: {self.image_sizes}, glasses color: {self.glasses_color}, line width: {self.line_width}\"\n",
    "\n",
    "image = ImageData(df[df[\"N\"] == 3].iloc[0])\n",
    "\n",
    "image.__str__()"
   ]
  },
  {
   "cell_type": "code",
   "execution_count": 8,
   "metadata": {},
   "outputs": [
    {
     "data": {
      "text/plain": [
       "'./Images/result_draco.jpg'"
      ]
     },
     "execution_count": 8,
     "metadata": {},
     "output_type": "execute_result"
    }
   ],
   "source": [
    "import cv2\n",
    "from PIL import Image, ImageDraw\n",
    "\n",
    "\n",
    "class Eye:\n",
    "    def __init__(self, x: int, y: int, w: int, h: int):\n",
    "        self.x = x\n",
    "        self.y = y\n",
    "        self.w = w\n",
    "        self.h = h\n",
    "        self.center = (x + w // 2, y + h // 2)\n",
    "        self.radius = min(w, h) // 2\n",
    "\n",
    "\n",
    "def detect_face(image: Image):\n",
    "    face_cascade = cv2.CascadeClassifier(\n",
    "        cv2.data.haarcascades + \"haarcascade_frontalface_default.xml\"\n",
    "    )\n",
    "\n",
    "    gray = cv2.cvtColor(image, cv2.COLOR_BGR2GRAY)\n",
    "    faces = face_cascade.detectMultiScale(\n",
    "        gray, scaleFactor=1.1, minNeighbors=5, minSize=(100, 100)\n",
    "    )\n",
    "\n",
    "    if len(faces) == 0:\n",
    "        raise Exception(\"No faces found\")\n",
    "\n",
    "    return sorted(faces, key=lambda face: face[2] * face[3], reverse=True)[0]\n",
    "\n",
    "\n",
    "def detect_eyes(image: Image):\n",
    "    eye_cascade = cv2.CascadeClassifier(cv2.data.haarcascades + \"haarcascade_eye.xml\")\n",
    "\n",
    "    gray = cv2.cvtColor(image, cv2.COLOR_BGR2GRAY)\n",
    "    detected_eyes = sorted(\n",
    "        eye_cascade.detectMultiScale(\n",
    "            gray, scaleFactor=1.1, minNeighbors=10, minSize=(30, 30)\n",
    "        ),\n",
    "        key=lambda eye: eye[0],\n",
    "    )\n",
    "\n",
    "    return [Eye(ex, ey, ew, eh) for (ex, ey, ew, eh) in detected_eyes]\n",
    "\n",
    "\n",
    "def cut_image(image: Image, center, sizes):\n",
    "    x, y = center\n",
    "    w, h = sizes\n",
    "    half_width, half_height = w // 2, h // 2\n",
    "    x1, y1 = max(0, x - half_width), max(0, y - half_height)\n",
    "    x2, y2 = min(image.shape[1], x + half_width), min(image.shape[0], y + half_height)\n",
    "\n",
    "    return image[y1:y2, x1:x2]\n",
    "\n",
    "\n",
    "def draw_glasses(image: Image, eyes: list[Eye], color: str, line_width: int):\n",
    "    result_image = Image.fromarray(cv2.cvtColor(image, cv2.COLOR_BGR2RGB))\n",
    "    result_draw = ImageDraw.Draw(result_image)\n",
    "\n",
    "    for eye in eyes:\n",
    "        result_draw.ellipse(\n",
    "            [\n",
    "                (eye.center[0] - eye.radius, eye.center[1] - eye.radius),\n",
    "                (eye.center[0] + eye.radius, eye.center[1] + eye.radius),\n",
    "            ],\n",
    "            outline=color,\n",
    "            width=line_width,\n",
    "        )\n",
    "\n",
    "    if(len(eyes) == 2):\n",
    "        result_draw.line(\n",
    "            [\n",
    "                (eyes[0].center[0] + eyes[0].radius, eyes[0].center[1]),\n",
    "                (eyes[1].center[0] - eyes[1].radius, eyes[1].center[1]),\n",
    "            ],\n",
    "            fill=color,\n",
    "            width=line_width,\n",
    "        )\n",
    "\n",
    "    return result_image\n",
    "\n",
    "\n",
    "def process_image(path: str, data: ImageData, output_path: str = None) -> str:\n",
    "    if output_path is None:\n",
    "        output_path = f\"{path}/result_{data.filename}\"\n",
    "    image = cv2.imread(f\"{path}/{data.filename}\")\n",
    "\n",
    "    (x, y, w, h) = detect_face(image)\n",
    "    image = cut_image(image, (x + w // 2, y + h // 2), data.image_sizes)\n",
    "\n",
    "    eyes = detect_eyes(image)\n",
    "    result_image = draw_glasses(image, eyes, data.glasses_color, data.line_width)\n",
    "    result_image.save(output_path)\n",
    "\n",
    "    return output_path\n",
    "\n",
    "\n",
    "process_image(\"./Images\", image)"
   ]
  }
 ],
 "metadata": {
  "kernelspec": {
   "display_name": ".venv",
   "language": "python",
   "name": "python3"
  },
  "language_info": {
   "codemirror_mode": {
    "name": "ipython",
    "version": 3
   },
   "file_extension": ".py",
   "mimetype": "text/x-python",
   "name": "python",
   "nbconvert_exporter": "python",
   "pygments_lexer": "ipython3",
   "version": "3.12.6"
  }
 },
 "nbformat": 4,
 "nbformat_minor": 2
}
